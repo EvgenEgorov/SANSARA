{
 "cells": [
  {
   "cell_type": "code",
   "execution_count": 1,
   "id": "5872adc1-ed96-4420-b241-f765d93b4ed7",
   "metadata": {
    "tags": []
   },
   "outputs": [],
   "source": [
    "import scvelo as scv\n",
    "import scanpy as sc\n",
    "import pandas as pd\n",
    "import numpy as np\n",
    "import anndata\n",
    "import matplotlib.pyplot as plt\n",
    "import seaborn as sns\n",
    "import os\n",
    "from scipy import io\n",
    "from scipy.sparse import coo_matrix, csr_matrix\n",
    "import torch\n",
    "from velovi import preprocess_data, VELOVI"
   ]
  },
  {
   "cell_type": "markdown",
   "id": "393a878f-eb81-4ab4-95a8-7cc896f9ee07",
   "metadata": {},
   "source": [
    "## Anndata object construction"
   ]
  },
  {
   "cell_type": "code",
   "execution_count": 2,
   "id": "91b105ee-5fe7-46ff-8c2c-40b8f05528c7",
   "metadata": {},
   "outputs": [],
   "source": [
    "os.chdir('/home/eegorov/scripts/tregs_cleaned/')\n",
    "\n",
    "X = io.mmread(\"counts.mtx\")\n",
    "\n",
    "adata = anndata.AnnData(\n",
    "    X=X.transpose().tocsr()\n",
    ")\n",
    "\n",
    "cell_meta = pd.read_csv(\"metadata.csv\")\n",
    "with open(\"gene_names.csv\", 'r') as f:\n",
    "    gene_names = f.read().splitlines()\n",
    "\n",
    "adata.obs = cell_meta\n",
    "adata.obs.index = adata.obs['barcode']\n",
    "adata.var.index = gene_names\n"
   ]
  },
  {
   "cell_type": "code",
   "execution_count": 11,
   "id": "c61e60e8-c27f-44ac-9060-cfc1842744c9",
   "metadata": {
    "jupyter": {
     "source_hidden": true
    },
    "tags": []
   },
   "outputs": [],
   "source": [
    "ldata_349 = scv.read('/home/eegorov/5prime_integrated_velocity/data/349.loom')\n",
    "ldata_358 = scv.read('/home/eegorov/5prime_integrated_velocity/data/358.loom')\n",
    "ldata_359 = scv.read('/home/eegorov/5prime_integrated_velocity/data/359.loom')\n",
    "ldata_360 = scv.read('/home/eegorov/5prime_integrated_velocity/data/360.loom')\n",
    "ldata_375 = scv.read('/home/eegorov/5prime_integrated_velocity/data/375.loom')\n",
    "ldata_400 = scv.read('/home/eegorov/5prime_integrated_velocity/data/400.loom')\n",
    "ldata_401 = scv.read('/home/eegorov/5prime_integrated_velocity/data/401.loom')\n",
    "ldata_424 = scv.read('/home/eegorov/5prime_integrated_velocity/data/424.loom')\n",
    "ldata_426 = scv.read('/home/eegorov/5prime_integrated_velocity/data/426.loom')\n",
    "ldata_427 = scv.read('/home/eegorov/5prime_integrated_velocity/data/427.loom')\n",
    "\n",
    "barcodes_375 = [bc.split(\":\")[1][0:(len(bc.split(\":\")[1])-1)] for bc in ldata_375.obs.index.tolist()]\n",
    "barcodes_375 = [\"344_\"+bc+\"-1\" for bc in barcodes_375]\n",
    "barcodes_400 = [bc.split(\":\")[1][0:(len(bc.split(\":\")[1])-1)] for bc in ldata_400.obs.index.tolist()]\n",
    "barcodes_401 = [bc.split(\":\")[1][0:(len(bc.split(\":\")[1])-1)] for bc in ldata_401.obs.index.tolist()]\n",
    "barcodes_400 = [\"481_\"+bc+\"-1\" for bc in barcodes_400]\n",
    "barcodes_401 = [\"481_\"+bc+\"-1\" for bc in barcodes_401]\n",
    "barcodes_349 = [bc.split(\":\")[1][0:(len(bc.split(\":\")[1])-1)] for bc in ldata_349.obs.index.tolist()]\n",
    "barcodes_358 = [bc.split(\":\")[1][0:(len(bc.split(\":\")[1])-1)] for bc in ldata_358.obs.index.tolist()]\n",
    "barcodes_359 = [bc.split(\":\")[1][0:(len(bc.split(\":\")[1])-1)] for bc in ldata_359.obs.index.tolist()]\n",
    "barcodes_360 = [bc.split(\":\")[1][0:(len(bc.split(\":\")[1])-1)] for bc in ldata_360.obs.index.tolist()]\n",
    "barcodes_424 = [bc.split(\":\")[1][0:(len(bc.split(\":\")[1])-1)] for bc in ldata_424.obs.index.tolist()]\n",
    "barcodes_426 = [bc.split(\":\")[1][0:(len(bc.split(\":\")[1])-1)] for bc in ldata_426.obs.index.tolist()]\n",
    "barcodes_427 = [bc.split(\":\")[1][0:(len(bc.split(\":\")[1])-1)] for bc in ldata_427.obs.index.tolist()]\n",
    "\n",
    "barcodes_349 = [\"116_\"+bc+\"-1\" for bc in barcodes_349]\n",
    "barcodes_358 = [\"116_\"+bc+\"-1\" for bc in barcodes_358]\n",
    "barcodes_359 = [\"116_\"+bc+\"-1\" for bc in barcodes_359]\n",
    "barcodes_360 = [\"116_\"+bc+\"-1\" for bc in barcodes_360]\n",
    "barcodes_424 = [\"116_\"+bc+\"-1\" for bc in barcodes_424]\n",
    "barcodes_426 = [\"116_\"+bc+\"-1\" for bc in barcodes_426]\n",
    "barcodes_427 = [\"116_\"+bc+\"-1\" for bc in barcodes_427]\n",
    "\n",
    "ldata_349.obs.index = barcodes_349\n",
    "ldata_358.obs.index = barcodes_358\n",
    "ldata_359.obs.index = barcodes_359\n",
    "ldata_360.obs.index = barcodes_360\n",
    "ldata_375.obs.index = barcodes_375\n",
    "ldata_400.obs.index = barcodes_400\n",
    "ldata_401.obs.index = barcodes_401\n",
    "ldata_424.obs.index = barcodes_424\n",
    "ldata_426.obs.index = barcodes_426\n",
    "ldata_427.obs.index = barcodes_427\n",
    "ldata_349.var_names_make_unique()\n",
    "ldata_358.var_names_make_unique()\n",
    "ldata_359.var_names_make_unique()\n",
    "ldata_360.var_names_make_unique()\n",
    "ldata_375.var_names_make_unique()\n",
    "ldata_400.var_names_make_unique()\n",
    "ldata_401.var_names_make_unique()\n",
    "ldata_424.var_names_make_unique()\n",
    "ldata_426.var_names_make_unique()\n",
    "ldata_427.var_names_make_unique()"
   ]
  },
  {
   "cell_type": "code",
   "execution_count": 3,
   "id": "f1fcfb5a-420e-4250-9f6b-0546fcc09ecd",
   "metadata": {},
   "outputs": [],
   "source": [
    "ldata = scv.read('/home/eegorov/scripts/tregs_cleaned/sample_alignments_G65EN.loom')\n",
    "\n",
    "#prefix = 'First_10X_05_'\n",
    "postfix = '-1'\n",
    "prefix = 'tregs_'\n",
    "barcodes = [bc.split(':')[1][0:len(bc.split(':')[1])-1] for bc in ldata.obs.index.tolist()]\n",
    "barcodes = [prefix+bc+postfix for bc in barcodes]\n",
    "ldata.obs.index = barcodes\n",
    "ldata.var_names_make_unique()"
   ]
  },
  {
   "cell_type": "code",
   "execution_count": 6,
   "id": "7e814b5f-0822-4bcf-9f1a-403c6fc1a896",
   "metadata": {
    "jupyter": {
     "source_hidden": true
    },
    "tags": []
   },
   "outputs": [],
   "source": [
    "ldata_04 = scv.read('/projects/lung_cancer/single_cell/kasatskaya/fastq/cellranger/DL004/velocyto/DL004.loom')\n",
    "ldata_03 = scv.read('/projects/lung_cancer/single_cell/kasatskaya/fastq/cellranger/DL003/velocyto/DL003.loom')\n",
    "ldata_01 = scv.read('/projects/lung_cancer/single_cell/kasatskaya/fastq/cellranger/DL001/velocyto/DL001.loom')\n",
    "\n",
    "barcodes_01 = [bc.split(\":\")[1][0:(len(bc.split(\":\")[1])-1)] for bc in ldata_01.obs.index.tolist()]\n",
    "barcodes_03 = [bc.split(\":\")[1][0:(len(bc.split(\":\")[1])-1)] for bc in ldata_03.obs.index.tolist()]\n",
    "barcodes_04 = [bc.split(\":\")[1][0:(len(bc.split(\":\")[1])-1)] for bc in ldata_04.obs.index.tolist()]\n",
    "\n",
    "barcodes_01 = [\"D01_rep2_\"+bc+\"-1\" for bc in barcodes_01]\n",
    "barcodes_03 = [\"D04_rep1_\"+bc+\"-1\" for bc in barcodes_03]\n",
    "barcodes_04 = [\"D05_rep1_\"+bc+\"-1\" for bc in barcodes_04]\n",
    "\n",
    "ldata_01.obs.index = barcodes_01\n",
    "ldata_03.obs.index = barcodes_03\n",
    "ldata_04.obs.index = barcodes_04\n",
    "\n",
    "ldata_01.var_names_make_unique()\n",
    "ldata_03.var_names_make_unique()\n",
    "ldata_04.var_names_make_unique()"
   ]
  },
  {
   "cell_type": "code",
   "execution_count": 4,
   "id": "3b0590d3-122b-4a82-89fd-ab332441e66a",
   "metadata": {
    "tags": []
   },
   "outputs": [],
   "source": [
    "scv.utils.clean_obs_names(adata)\n",
    "scv.utils.clean_obs_names(ldata)\n",
    "adata = scv.utils.merge(adata, ldata)"
   ]
  },
  {
   "cell_type": "markdown",
   "id": "75e5edc4-1ae2-4601-81ef-8c61c4f5a53a",
   "metadata": {},
   "source": [
    "## VeloVI usage and spliced-aware dataset construction"
   ]
  },
  {
   "cell_type": "code",
   "execution_count": 5,
   "id": "6fada504-9228-4816-95ee-e5871f21fb99",
   "metadata": {},
   "outputs": [
    {
     "name": "stdout",
     "output_type": "stream",
     "text": [
      "Filtered out 19360 genes that are detected 1 counts (shared).\n",
      "Normalized count data: X, spliced, unspliced.\n",
      "Skip filtering by dispersion since number of variables are less than `n_top_genes`.\n",
      "WARNING: Did not modify X as it looks preprocessed already.\n",
      "computing neighbors\n",
      "    finished (0:00:30) --> added \n",
      "    'distances' and 'connectivities', weighted adjacency matrices (adata.obsp)\n",
      "computing moments based on connectivities\n",
      "    finished (0:00:02) --> added \n",
      "    'Ms' and 'Mu', moments of un/spliced abundances (adata.layers)\n",
      "computing velocities\n",
      "    finished (0:00:03) --> added \n",
      "    'velocity', velocity vectors for each individual cell (adata.layers)\n"
     ]
    },
    {
     "name": "stderr",
     "output_type": "stream",
     "text": [
      "GPU available: True (cuda), used: True\n",
      "TPU available: False, using: 0 TPU cores\n",
      "IPU available: False, using: 0 IPUs\n",
      "HPU available: False, using: 0 HPUs\n",
      "LOCAL_RANK: 0 - CUDA_VISIBLE_DEVICES: [0]\n",
      "SLURM auto-requeueing enabled. Setting signal handlers.\n"
     ]
    },
    {
     "name": "stdout",
     "output_type": "stream",
     "text": [
      "Epoch 213/500:  43%|████▎     | 213/500 [04:07<05:33,  1.16s/it, v_num=1, train_loss_step=-1.89e+3, train_loss_epoch=-1.88e+3]\n",
      "Monitored metric elbo_validation did not improve in the last 45 records. Best score: -1784.554. Signaling Trainer to stop.\n"
     ]
    }
   ],
   "source": [
    "#Preprocessing and gene selecting for velocity estimation\n",
    "scv.pp.filter_and_normalize(adata, min_shared_counts=1, n_top_genes=20000)\n",
    "scv.pp.moments(adata, n_pcs=30, n_neighbors=30)\n",
    "adata = preprocess_data(adata)\n",
    "\n",
    "#Training the model to extimate the velocity for particular gens of interest\n",
    "VELOVI.setup_anndata(adata, spliced_layer=\"Ms\", unspliced_layer=\"Mu\")\n",
    "vae = VELOVI(adata)\n",
    "vae.train()\n",
    "\n",
    "#Adding velocity to AnnData object\n",
    "latent_time = vae.get_latent_time(n_samples=25)\n",
    "velocities = vae.get_velocity(n_samples=25, velo_statistic=\"mean\")\n",
    "scaling = 20 / latent_time.max(0)\n",
    "adata.layers[\"velocity\"] = velocities / scaling\n",
    "\n",
    "#Estimating velocity*expression metric for each selected genes\n",
    "genes_filtered_scvelo = adata.var['velocity_genes'][adata.var['velocity_genes'] == True].index.tolist()\n",
    "velocity = adata.to_df(layer='velocity')[genes_filtered_scvelo]\n",
    "expression = adata.to_df()[genes_filtered_scvelo]\n",
    "multiplicate = velocity*expression.values\n",
    "multiplicate = multiplicate.fillna(0)\n",
    "\n",
    "#Constructing the spliced-aware \"count\" matrix\n",
    "splitted_matrix = pd.DataFrame()\n",
    "for col in multiplicate.columns:\n",
    "    splitted_matrix[f'{col}_unspliced'] = multiplicate[col].apply(lambda x: x if float(x) > 0 else 0)\n",
    "    splitted_matrix[f'{col}_spliced'] = multiplicate[col].apply(lambda x: (-1)*x if float(x) < 0 else 0)\n",
    "\n",
    "#Saving\n",
    "splitted_matrix.to_csv('splice_aware_matrix.csv',index=True)"
   ]
  }
 ],
 "metadata": {
  "kernelspec": {
   "display_name": "Python [conda env:.conda-velocity]",
   "language": "python",
   "name": "conda-env-.conda-velocity-py"
  },
  "language_info": {
   "codemirror_mode": {
    "name": "ipython",
    "version": 3
   },
   "file_extension": ".py",
   "mimetype": "text/x-python",
   "name": "python",
   "nbconvert_exporter": "python",
   "pygments_lexer": "ipython3",
   "version": "3.9.12"
  }
 },
 "nbformat": 4,
 "nbformat_minor": 5
}
