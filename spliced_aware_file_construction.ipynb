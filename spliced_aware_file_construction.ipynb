{
 "cells": [
  {
   "cell_type": "code",
   "execution_count": 1,
   "id": "5872adc1-ed96-4420-b241-f765d93b4ed7",
   "metadata": {},
   "outputs": [],
   "source": [
    "import scvelo as scv\n",
    "import scanpy as sc\n",
    "import pandas as pd\n",
    "import numpy as np\n",
    "import anndata\n",
    "import matplotlib.pyplot as plt\n",
    "import seaborn as sns\n",
    "import os\n",
    "from scipy import io\n",
    "from scipy.sparse import coo_matrix, csr_matrix\n",
    "import torch\n",
    "from velovi import preprocess_data, VELOVI"
   ]
  },
  {
   "cell_type": "markdown",
   "id": "393a878f-eb81-4ab4-95a8-7cc896f9ee07",
   "metadata": {},
   "source": [
    "## Anndata object construction"
   ]
  },
  {
   "cell_type": "code",
   "execution_count": 7,
   "id": "91b105ee-5fe7-46ff-8c2c-40b8f05528c7",
   "metadata": {},
   "outputs": [],
   "source": [
    "os.chdir('/home/eegorov/scripts/')\n",
    "\n",
    "X = io.mmread(\"counts.mtx\")\n",
    "\n",
    "adata = anndata.AnnData(\n",
    "    X=X.transpose().tocsr()\n",
    ")\n",
    "\n",
    "cell_meta = pd.read_csv(\"metadata.csv\")\n",
    "with open(\"gene_names.csv\", 'r') as f:\n",
    "    gene_names = f.read().splitlines()\n",
    "\n",
    "adata.obs = cell_meta\n",
    "adata.obs.index = adata.obs['Barcode']\n",
    "adata.var.index = gene_names\n",
    "\n",
    "pca = pd.read_csv(\"pca.csv\")\n",
    "pca.index = adata.obs.index\n",
    "\n",
    "adata.obsm['X_pca'] = pca.to_numpy()\n",
    "adata.obsm['X_umap'] = np.vstack((adata.obs['UMAP_1'].to_numpy(), adata.obs['UMAP_2'].to_numpy())).T\n",
    "\n",
    "pca = pd.read_csv(\"pca.csv\")\n",
    "pca.index = adata.obs.index\n",
    "\n",
    "adata.obsm['X_pca'] = pca.to_numpy()\n",
    "adata.obsm['X_umap'] = np.vstack((adata.obs['UMAP_1'].to_numpy(), adata.obs['UMAP_2'].to_numpy())).T\n",
    "\n",
    "patient_5 = scv.read('/home/eegorov/kasatskaya/DL004.loom')\n",
    "\n",
    "#patient_5\n",
    "barcodes = [bc.split(':')[1][0:len(bc.split(':')[1])-1] for bc in patient_5.obs.index.tolist()]\n",
    "barcodes = [bc+'-1-kasatskaya_D05_rep1' for bc in barcodes]\n",
    "patient_5.obs.index = barcodes\n",
    "patient_5.var_names_make_unique()\n",
    "\n",
    "index_to_save = adata.to_df().index\n",
    "scv.utils.clean_obs_names(adata)\n",
    "scv.utils.clean_obs_names(patient_5)\n",
    "adata = scv.utils.merge(adata, patient_5)\n",
    "adata.obs.index = index_to_save\n"
   ]
  },
  {
   "cell_type": "markdown",
   "id": "75e5edc4-1ae2-4601-81ef-8c61c4f5a53a",
   "metadata": {},
   "source": [
    "## VeloVI usage and spliced-aware dataset construction"
   ]
  },
  {
   "cell_type": "code",
   "execution_count": 8,
   "id": "9a37a4a8-efed-4a71-85b4-36bc02e08a3f",
   "metadata": {},
   "outputs": [
    {
     "name": "stdout",
     "output_type": "stream",
     "text": [
      "Filtered out 11235 genes that are detected 1 counts (shared).\n",
      "Normalized count data: X, spliced, unspliced.\n",
      "Extracted 2000 highly variable genes.\n",
      "WARNING: Did not modify X as it looks preprocessed already.\n",
      "computing neighbors\n",
      "    finished (0:00:01) --> added \n",
      "    'distances' and 'connectivities', weighted adjacency matrices (adata.obsp)\n",
      "computing moments based on connectivities\n",
      "    finished (0:00:01) --> added \n",
      "    'Ms' and 'Mu', moments of un/spliced abundances (adata.layers)\n",
      "computing velocities\n",
      "    finished (0:00:00) --> added \n",
      "    'velocity', velocity vectors for each individual cell (adata.layers)\n"
     ]
    },
    {
     "name": "stderr",
     "output_type": "stream",
     "text": [
      "GPU available: True (cuda), used: True\n",
      "TPU available: False, using: 0 TPU cores\n",
      "IPU available: False, using: 0 IPUs\n",
      "HPU available: False, using: 0 HPUs\n",
      "LOCAL_RANK: 0 - CUDA_VISIBLE_DEVICES: [0]\n",
      "SLURM auto-requeueing enabled. Setting signal handlers.\n"
     ]
    },
    {
     "name": "stdout",
     "output_type": "stream",
     "text": [
      "Epoch 227/500:  45%|████▌     | 227/500 [03:15<03:54,  1.16it/s, v_num=1, train_loss_step=-418, train_loss_epoch=-2.04e+3]    \n",
      "Monitored metric elbo_validation did not improve in the last 45 records. Best score: -1928.422. Signaling Trainer to stop.\n"
     ]
    }
   ],
   "source": [
    "#Preprocessing and gene selecting for velocity estimation\n",
    "scv.pp.filter_and_normalize(adata, min_shared_counts=1, n_top_genes=2000)\n",
    "scv.pp.moments(adata, n_pcs=30, n_neighbors=30)\n",
    "adata = preprocess_data(adata)\n",
    "\n",
    "#Training the model to extimate the velocity for particular gens of interest\n",
    "VELOVI.setup_anndata(adata, spliced_layer=\"Ms\", unspliced_layer=\"Mu\")\n",
    "vae = VELOVI(adata)\n",
    "vae.train()\n",
    "\n",
    "#Adding velocity to AnnData object\n",
    "latent_time = vae.get_latent_time(n_samples=25)\n",
    "velocities = vae.get_velocity(n_samples=25, velo_statistic=\"mean\")\n",
    "scaling = 20 / latent_time.max(0)\n",
    "adata.layers[\"velocity\"] = velocities / scaling\n",
    "\n",
    "#Estimating velocity*expression metric for each selected genes\n",
    "genes_filtered_scvelo = adata.var['velocity_genes'][adata.var['velocity_genes'] == True].index.tolist()\n",
    "velocity = adata.to_df(layer='velocity')[genes_filtered_scvelo]\n",
    "expression = adata.to_df()[genes_filtered_scvelo]\n",
    "multiplicate = velocity*expression.values\n",
    "multiplicate = multiplicate.fillna(0)\n",
    "\n",
    "#Constructing the spliced-aware \"count\" matrix\n",
    "column_names = multiplicate.columns.tolist()\n",
    "spliced_genes = [x+'_spliced' for x in column_names]\n",
    "unspliced_genes = [x+'_unspliced' for x in column_names]\n",
    "cols_for_df = spliced_genes+unspliced_genes\n",
    "\n",
    "dict_spliced = dict(zip(column_names,spliced_genes))\n",
    "dict_unspliced = dict(zip(column_names,unspliced_genes))\n",
    "df_spliced = pd.DataFrame(0,columns = spliced_genes, index = multiplicate.index)\n",
    "df_unspliced = pd.DataFrame(0,columns = unspliced_genes, index = multiplicate.index)\n",
    "summing_up = pd.concat([df_spliced,df_unspliced],axis=1)\n",
    "\n",
    "#Filling in values\n",
    "for i in dict_unspliced.keys():\n",
    "    summing_up.loc[multiplicate[i]>0,dict_unspliced[i]] = multiplicate[i]\n",
    "for i in dict_spliced.keys():\n",
    "    summing_up.loc[multiplicate[i]<0,dict_spliced[i]] = multiplicate[i]*(-1)\n",
    "    \n",
    "#Saving\n",
    "summing_up.to_csv('spliced_aware_count_matrix.csv',index=True)"
   ]
  }
 ],
 "metadata": {
  "kernelspec": {
   "display_name": "Python [conda env:.conda-velocity]",
   "language": "python",
   "name": "conda-env-.conda-velocity-py"
  },
  "language_info": {
   "codemirror_mode": {
    "name": "ipython",
    "version": 3
   },
   "file_extension": ".py",
   "mimetype": "text/x-python",
   "name": "python",
   "nbconvert_exporter": "python",
   "pygments_lexer": "ipython3",
   "version": "3.9.12"
  }
 },
 "nbformat": 4,
 "nbformat_minor": 5
}
